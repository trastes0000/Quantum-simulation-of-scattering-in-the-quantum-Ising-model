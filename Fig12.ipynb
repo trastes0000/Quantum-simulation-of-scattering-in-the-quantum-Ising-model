{
 "cells": [
  {
   "cell_type": "code",
   "execution_count": 33,
   "id": "d8780832",
   "metadata": {},
   "outputs": [],
   "source": [
    "import numpy as np\n",
    "\n",
    "def onedim_8sites_IsingModel_PBC(qc,n_qubits,dt):\n",
    "    \n",
    "    odd=[0,2]\n",
    "    even=[1]\n",
    "    for i in range(n_qubits):\n",
    "        qc.rz(-2*ht*dt,i) #qc.rz(-2 * theta, i)  # Implements e^{i θ Z} to the qubit i\n",
    "    qc.barrier()\n",
    "    for i in odd:\n",
    "        qc.cx(i,i+1)\n",
    "    for i in odd:\n",
    "        qc.rx(-2*J*dt,i)\n",
    "    for i in odd:\n",
    "        qc.cx(i,i+1)\n",
    "    qc.barrier()\n",
    "    for i in even:\n",
    "        qc.cx(i,i+1)\n",
    "    for i in even:\n",
    "        qc.rx(-2*J*dt,i)\n",
    "    for i in even:\n",
    "        qc.cx(i,i+1)\n",
    "    qc.barrier()      \n",
    "    qc.cx(0,n_qubits-1)\n",
    "    qc.rx(-2*J*dt,0)\n",
    "    qc.cx(0,n_qubits-1)\n",
    "    qc.barrier()      "
   ]
  },
  {
   "cell_type": "code",
   "execution_count": 74,
   "id": "8ed1961c",
   "metadata": {},
   "outputs": [
    {
     "name": "stdout",
     "output_type": "stream",
     "text": [
      "NoiseModel:\n",
      "  Basis gates: ['cx', 'id', 'rz', 'sx', 'u1', 'u2', 'u3', 'x']\n",
      "  Instructions with noise: ['x', 'measure', 'u3', 'cx', 'u2', 'sx', 'u1', 'rz']\n",
      "  All-qubits errors: ['measure', 'u1', 'u2', 'u3', 'x', 'sx', 'rz', 'cx']\n"
     ]
    }
   ],
   "source": [
    "\"\"\"\n",
    "NumPy Simulation Data:\n",
    "\"\"\"\n",
    "# Import from Qiskit Aer noise module\n",
    "from qiskit_aer.noise import (\n",
    "    NoiseModel,\n",
    "    QuantumError,\n",
    "    ReadoutError,\n",
    "    depolarizing_error,\n",
    "    pauli_error,\n",
    "    thermal_relaxation_error,\n",
    ")\n",
    "\n",
    "from qiskit_aer.noise import pauli_error, NoiseModel\n",
    "\n",
    "pI1 = 1 - 3*0.0005 # probability of no error\n",
    "p1 = [pI1, 0.0005, 0.0005, 0.0005]   #Optimistic error rates for current trapped ions for 1-qubit error\n",
    "pI2 = 1 - 3*0.004 \n",
    "p2 = [pI2, 0.004, 0.004, 0.004]   #Optimistic error rates for near-term superconducting qubits for 2-qubit error\n",
    "p_meas = 0.05\n",
    "# QuantumError objects\n",
    "error_meas = pauli_error([(\"X\", p_meas), (\"I\", 1 - p_meas)])\n",
    "error_table2 = pauli_error([(\"X\", p1[1]), (\"Y\", p1[2]),(\"Z\", p1[3]),(\"I\", p1[0])])\n",
    "error_gate2 = pauli_error([(\"X\", p2[1]), (\"Y\", p2[2]),(\"Z\", p2[3]),(\"I\", p2[0])])\n",
    "error_table3 = error_gate2.tensor(error_gate2)\n",
    " \n",
    "# Add errors to noise model\n",
    "noise = NoiseModel()\n",
    "\n",
    "noise.add_all_qubit_quantum_error(error_meas, \"measure\")\n",
    "noise.add_all_qubit_quantum_error(error_table2, [\"u1\", \"u2\", \"u3\",\"x\", \"sx\", \"rz\"])\n",
    "noise.add_all_qubit_quantum_error(error_table3, [\"cx\"])\n",
    " \n",
    "print(noise)"
   ]
  },
  {
   "cell_type": "code",
   "execution_count": null,
   "id": "cecc68f5",
   "metadata": {},
   "outputs": [],
   "source": [
    "from qiskit import transpile\n",
    "from qiskit_aer import AerSimulator\n",
    "\n",
    "sim = AerSimulator(noise_model=noise, shots = 10000)\n",
    "\n",
    "\n",
    "def prob_qubit_one(qc, target_qubit, shots):\n",
    "\n",
    "    job = sim.run(qc, shots=shots)\n",
    "    result = job.result()\n",
    "    counts = result.get_counts()\n",
    "\n",
    "    count_one = 0\n",
    "    for bitstring, freq in counts.items():\n",
    "        if bitstring[::-1][target_qubit] == \"1\":\n",
    "            count_one += freq\n",
    "\n",
    "    prob_target = count_one / sum(counts.values())\n",
    "    return prob_target\n"
   ]
  },
  {
   "cell_type": "code",
   "execution_count": null,
   "id": "580d4286",
   "metadata": {},
   "outputs": [],
   "source": [
    "from qiskit import QuantumCircuit, QuantumRegister \n",
    "from qiskit.quantum_info import Statevector\n",
    "J=0.02\n",
    "ht=1\n",
    "dt=5\n",
    "time_steps=16\n",
    "n_qubits=4\n",
    "qr=QuantumRegister(n_qubits)\n",
    "qc=QuantumCircuit(qr)\n",
    "probs = []\n",
    "target_qubit=2\n",
    "shots=10000\n",
    "\n",
    "initial_state = Statevector.from_label(\"0001\") \n",
    "sinit=qc.initialize(initial_state)\n",
    "for t in range(time_steps):\n",
    "    # Copy current circuit and add measurements\n",
    "    qc_meas = qc.copy()\n",
    "    qc_meas.measure_all()\n",
    "\n",
    "    #  Run in the simulator\n",
    "    p = prob_qubit_one(qc_meas, target_qubit, shots)\n",
    "    probs.append(p)\n",
    "    \n",
    "    # Evolve the original circuit (without measurements) for the next step.\n",
    "    onedim_8sites_IsingModel_PBC(qc, n_qubits, dt)\n"
   ]
  },
  {
   "cell_type": "code",
   "execution_count": null,
   "id": "cdee50a0",
   "metadata": {},
   "outputs": [
    {
     "data": {
      "image/png": "[encoded data removed]",
      "text/plain": [
       "<Figure size 640x480 with 1 Axes>"
      ]
     },
     "metadata": {},
     "output_type": "display_data"
    }
   ],
   "source": [
    "import matplotlib.pyplot as plt\n",
    "\n",
    "x_vals=np.arange(time_steps)*J*dt\n",
    "plt.scatter(x_vals, probs, color='black')\n",
    "plt.ylim(0,1)\n",
    "plt.xlabel(\"Jt\")\n",
    "plt.ylabel(fr\"$\\langle n_{{{target_qubit+1}}} \\rangle$\")\n",
    "plt.text(\n",
    "    x=0.5, y=0.95, s=\"(C)\", \n",
    "    ha='center', va='top', transform=plt.gca().transAxes, fontsize=12\n",
    ")\n",
    "plt.xlim(0,1.4)\n",
    "#plt.title(f\"Occupation value for site {target_qubit+1}\")\n",
    "plt.grid(True, linestyle='--', alpha=0.7)\n",
    "plt.show()"
   ]
  }
 ],
 "metadata": {
  "kernelspec": {
   "display_name": "Qiskit",
   "language": "python",
   "name": "python3"
  },
  "language_info": {
   "codemirror_mode": {
    "name": "ipython",
    "version": 3
   },
   "file_extension": ".py",
   "mimetype": "text/x-python",
   "name": "python",
   "nbconvert_exporter": "python",
   "pygments_lexer": "ipython3",
   "version": "3.11.9"
  }
 },
 "nbformat": 4,
 "nbformat_minor": 5
}
