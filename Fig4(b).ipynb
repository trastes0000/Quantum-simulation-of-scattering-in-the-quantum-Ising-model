{
 "cells": [
  {
   "cell_type": "code",
   "execution_count": 33,
   "id": "ac250c2d",
   "metadata": {},
   "outputs": [],
   "source": [
    "import numpy as np\n",
    "\n",
    "def onedim_8sites_IsingModel_OBC(qc,n_qubits,dt):\n",
    "    \n",
    "    odd=[0,2,4,6]\n",
    "    even=[1,3,5]\n",
    "    for i in range(n_qubits):\n",
    "        qc.rz(-2*ht*dt,i) #qc.rz(-2 * theta, i)  # Implements e^{i θ Z} to the qubit i\n",
    "    qc.barrier()\n",
    "    for i in odd:\n",
    "        qc.cx(i,i+1)\n",
    "    for i in odd:\n",
    "        qc.rx(-2*J*dt,i)\n",
    "    for i in odd:\n",
    "        qc.cx(i,i+1)\n",
    "    qc.barrier()\n",
    "    for i in even:\n",
    "        qc.cx(i,i+1)\n",
    "    for i in even:\n",
    "        qc.rx(-2*J*dt,i)\n",
    "    for i in even:\n",
    "        qc.cx(i,i+1)\n",
    "    qc.barrier()      \n",
    "\n",
    "def onedim_8sites_IsingModel_PBC(qc,n_qubits,dt):\n",
    "    \n",
    "    odd=[0,2,4,6]\n",
    "    even=[1,3,5]\n",
    "    for i in range(n_qubits):\n",
    "        qc.rz(-2*ht*dt,i) #qc.rz(-2 * theta, i)  # Implements e^{i θ Z} to the qubit i\n",
    "    qc.barrier()\n",
    "    for i in odd:\n",
    "        qc.cx(i,i+1)\n",
    "    for i in odd:\n",
    "        qc.rx(-2*J*dt,i)\n",
    "    for i in odd:\n",
    "        qc.cx(i,i+1)\n",
    "    qc.barrier()\n",
    "    for i in even:\n",
    "        qc.cx(i,i+1)\n",
    "    for i in even:\n",
    "        qc.rx(-2*J*dt,i)\n",
    "    for i in even:\n",
    "        qc.cx(i,i+1)\n",
    "    qc.barrier()      \n",
    "    qc.cx(0,n_qubits-1)\n",
    "    qc.rx(-2*J*dt,0)\n",
    "    qc.cx(0,n_qubits-1)\n",
    "    qc.barrier()      \n"
   ]
  },
  {
   "cell_type": "code",
   "execution_count": null,
   "id": "020f0a21",
   "metadata": {},
   "outputs": [
    {
     "name": "stdout",
     "output_type": "stream",
     "text": [
      "Python en uso: c:\\Users\\pablo\\OneDrive\\Escritorio\\Universidad\\TFG\\Qiskit\\Scripts\\python.exe\n"
     ]
    }
   ],
   "source": [
    "import sys\n",
    "print(\"Python en uso:\", sys.executable)"
   ]
  },
  {
   "cell_type": "code",
   "execution_count": null,
   "id": "c112f8fe",
   "metadata": {},
   "outputs": [
    {
     "data": {
      "text/html": [
       "<pre style=\"word-wrap: normal;white-space: pre;background: #fff0;line-height: 1.1;font-family: &quot;Courier New&quot;,Courier,monospace\">      \n",
       "q3_0: \n",
       "      \n",
       "q3_1: \n",
       "      \n",
       "q3_2: \n",
       "      \n",
       "q3_3: \n",
       "      \n",
       "q3_4: \n",
       "      \n",
       "q3_5: \n",
       "      \n",
       "q3_6: \n",
       "      \n",
       "q3_7: \n",
       "      </pre>"
      ],
      "text/plain": [
       "      \n",
       "q3_0: \n",
       "      \n",
       "q3_1: \n",
       "      \n",
       "q3_2: \n",
       "      \n",
       "q3_3: \n",
       "      \n",
       "q3_4: \n",
       "      \n",
       "q3_5: \n",
       "      \n",
       "q3_6: \n",
       "      \n",
       "q3_7: \n",
       "      "
      ]
     },
     "execution_count": 35,
     "metadata": {},
     "output_type": "execute_result"
    }
   ],
   "source": [
    "from qiskit.circuit import QuantumCircuit, QuantumRegister\n",
    "\n",
    "\n",
    "# ===============================\n",
    "# Create an arbitrary circuit\n",
    "# ===============================\n",
    "J=0.02\n",
    "ht=1\n",
    "dt=10\n",
    "time_steps=40\n",
    "n_qubits=8\n",
    "qr=QuantumRegister(n_qubits)\n",
    "qc=QuantumCircuit(qr)\n",
    "\n",
    "qc.draw() #check that we are not \"rewritting\" on an used circuit\n"
   ]
  },
  {
   "cell_type": "code",
   "execution_count": 36,
   "id": "d0a627c0",
   "metadata": {},
   "outputs": [],
   "source": [
    "#Initialize the state vector\n",
    "qc.x(0)\n",
    "\n",
    "for t in range(time_steps):\n",
    "    onedim_8sites_IsingModel_PBC(qc,n_qubits,dt)\n",
    "\n",
    "qc.measure_all()"
   ]
  },
  {
   "cell_type": "code",
   "execution_count": null,
   "id": "a2c3654a",
   "metadata": {},
   "outputs": [],
   "source": [
    "# ===================================\n",
    "# Run on a real quantum computer (here I store my account data locally)\n",
    "# ===================================\n",
    "from qiskit_ibm_runtime import QiskitRuntimeService\n",
    "\n",
    "# Save data locally so you don't have to re-enter it every time\n",
    "QiskitRuntimeService.save_account(\n",
    "    channel=\"ibm_cloud\",\n",
    "    token=\"--------------------\",\n",
    "    instance=\"-----------------\",\n",
    "    overwrite=True\n",
    ")\n",
    "\n",
    "service = QiskitRuntimeService()"
   ]
  },
  {
   "cell_type": "code",
   "execution_count": null,
   "id": "2ccba89c",
   "metadata": {},
   "outputs": [
    {
     "name": "stdout",
     "output_type": "stream",
     "text": [
      "[<IBMBackend('ibm_brisbane')>, <IBMBackend('ibm_torino')>]\n"
     ]
    },
    {
     "ename": "",
     "evalue": "",
     "output_type": "error",
     "traceback": [
      "\u001b[1;31mnotebook controller is DISPOSED. \n",
      "\u001b[1;31mView Jupyter <a href='command:jupyter.viewOutput'>log</a> for further details."
     ]
    }
   ],
   "source": [
    "# See which devices (simulators/QPUs) you have access to\n",
    "backends = service.backends()\n",
    "print(backends)"
   ]
  },
  {
   "cell_type": "code",
   "execution_count": null,
   "id": "96c1b50e",
   "metadata": {},
   "outputs": [],
   "source": [
    "from qiskit_ibm_runtime import SamplerV2 as Sampler\n",
    "from qiskit import transpile\n",
    "# Get a real backend\n",
    "backend_real = service.backend(\"ibm_torino\")  \n",
    "qc_transpiled = transpile(qc, backend=backend_real)\n",
    "\n",
    "sampler_real = Sampler(backend_real)\n",
    "job_real = sampler_real.run([qc_transpiled], shots=10000)\n",
    "counts_real = job_real.result()[0].data.meas.get_counts()\n"
   ]
  },
  {
   "cell_type": "code",
   "execution_count": 38,
   "id": "65355611",
   "metadata": {},
   "outputs": [
    {
     "name": "stdout",
     "output_type": "stream",
     "text": [
      "\n",
      "Result for the ibm_torino hardware:\n",
      "{'00000000': 729, '11110110': 12, '01001001': 36, '00101111': 13, '10011010': 22, '00000111': 52, '00010000': 218, '00011100': 42, '01011000': 31, '10000000': 248, '00000010': 273, '01101001': 21, '11111001': 9, '00101001': 30, '11100000': 40, '00100000': 290, '00110101': 23, '10110000': 50, '10001000': 86, '00000100': 313, '00101010': 26, '01000010': 77, '10010000': 93, '01111001': 15, '11010111': 4, '10000101': 41, '10000100': 88, '01110010': 16, '11100101': 10, '11001011': 20, '10100111': 25, '00111000': 36, '10110100': 17, '01110111': 5, '10100000': 79, '10101100': 18, '00100001': 67, '10010010': 42, '01000100': 81, '01011100': 26, '10111001': 8, '00110110': 21, '01110000': 36, '01100110': 26, '00001100': 75, '00011101': 19, '01100000': 98, '01000000': 287, '11011100': 12, '00000001': 271, '11100011': 12, '01110100': 22, '01101100': 21, '00010011': 30, '00010001': 82, '00001110': 47, '00010101': 42, '11001100': 20, '11000000': 101, '11000001': 36, '00110001': 44, '00010010': 100, '00110000': 91, '01000001': 84, '01001000': 75, '01001100': 39, '10000010': 89, '01001110': 22, '11000101': 26, '01100010': 44, '10001100': 49, '01101010': 17, '00100100': 93, '00011001': 27, '10010111': 14, '11001101': 17, '10101000': 36, '00101100': 36, '00101000': 95, '00100110': 38, '01001010': 30, '01010111': 16, '10000001': 78, '01100100': 60, '00100011': 39, '10011001': 18, '11000111': 16, '11100010': 22, '00111100': 15, '10000110': 46, '11010010': 24, '01011011': 11, '10101111': 12, '11000110': 22, '00001001': 77, '00010111': 24, '00001000': 267, '10010100': 42, '01110101': 12, '00011110': 14, '00100101': 34, '11000011': 20, '00010110': 41, '00000011': 97, '01100101': 26, '11111011': 14, '00001010': 71, '10001010': 40, '01000011': 41, '11101100': 17, '01101000': 42, '01000101': 37, '10010001': 34, '11011000': 33, '00110100': 40, '01001011': 26, '11111000': 11, '01000110': 46, '11010000': 41, '01100111': 13, '01010000': 98, '10010110': 15, '00000110': 77, '10101010': 29, '10111000': 19, '10111110': 14, '11001001': 23, '01100001': 40, '11110111': 4, '00101011': 10, '01010100': 43, '00001111': 29, '11001110': 12, '10110101': 14, '10100100': 34, '11111111': 6, '10011011': 8, '00110010': 39, '01010101': 24, '01111100': 17, '01010110': 15, '10111101': 10, '00011000': 92, '00011010': 29, '10110110': 18, '01110001': 13, '11110010': 14, '11000010': 29, '11111110': 10, '10100110': 27, '00001011': 48, '10110011': 15, '01111101': 7, '00100010': 82, '11001000': 38, '11110101': 12, '11000100': 46, '10011111': 15, '00010100': 74, '11100110': 13, '11010101': 12, '00001101': 45, '01010010': 27, '00000101': 89, '01101101': 14, '10101011': 8, '11100111': 12, '01011010': 15, '00011111': 9, '11101001': 15, '10000011': 49, '01100011': 20, '11011111': 10, '11010100': 13, '11101011': 6, '01111011': 15, '10100001': 49, '11001010': 23, '10110001': 22, '11011011': 9, '00110011': 17, '10010101': 27, '11100001': 28, '00111001': 21, '00101101': 26, '01111000': 20, '01101110': 12, '01011110': 10, '00110111': 10, '01000111': 12, '10001001': 43, '01010011': 23, '00011011': 20, '10001101': 24, '10100011': 20, '11010001': 19, '11011010': 10, '10110111': 6, '10001110': 20, '10100101': 22, '10011000': 37, '01110011': 10, '00111010': 16, '10001011': 19, '01111111': 7, '01011001': 17, '01010001': 41, '01101011': 10, '10101110': 12, '00101110': 11, '11111100': 6, '11110001': 10, '10000111': 25, '10101101': 16, '00111011': 9, '11110000': 22, '10100010': 33, '01111010': 18, '10011100': 18, '11110100': 11, '01011101': 14, '10011101': 12, '01011111': 12, '01001101': 20, '11001111': 22, '10010011': 12, '00111110': 10, '00111101': 15, '11101101': 18, '10101001': 10, '11100100': 24, '11011110': 11, '01110110': 7, '11011001': 17, '11111101': 9, '10111011': 9, '10011110': 5, '11101010': 23, '11110011': 9, '10110010': 16, '11101110': 9, '11010110': 11, '10001111': 19, '10111111': 5, '11111010': 12, '10111100': 8, '10111010': 7, '00111111': 8, '01111110': 5, '11101111': 7, '01001111': 8, '01101111': 12, '11101000': 19, '11010011': 10, '00100111': 23, '11011101': 5}\n",
      "Total shots executed: 10000\n"
     ]
    }
   ],
   "source": [
    "# Inspect result of SamplerV2 primitive performed on real IBM quantum hardware\n",
    "print(\"\\nResult for the ibm_torino hardware:\")\n",
    "print(counts_real)\n",
    "\n",
    "result_real = job_real.result()\n",
    "spans = result_real.metadata[\"execution\"][\"execution_spans\"]\n",
    "shots = spans[0].size\n",
    "print(\"Total shots executed:\", shots)\n",
    "\n"
   ]
  },
  {
   "cell_type": "code",
   "execution_count": null,
   "id": "bb0f020e",
   "metadata": {},
   "outputs": [
    {
     "name": "stdout",
     "output_type": "stream",
     "text": [
      "\n",
      "Probabilidad de cada qubit de estar en |1>:\n",
      "Qubit 0: 0.3148\n",
      "Qubit 1: 0.3095\n",
      "Qubit 2: 0.3256\n",
      "Qubit 3: 0.3062\n",
      "Qubit 4: 0.2990\n",
      "Qubit 5: 0.3143\n",
      "Qubit 6: 0.3203\n",
      "Qubit 7: 0.3204\n"
     ]
    }
   ],
   "source": [
    "# ===================================\n",
    "#  Calculate the probability that each qubit is in state |1>\n",
    "# ===================================\n",
    "total_shots = sum(counts_real.values())\n",
    "prob_qubits = [0] * n_qubits\n",
    "\n",
    "for bitstring, freq in counts_real.items():\n",
    "    # bitstring is on little-endian order (q2 q1 q0)\n",
    "    for i, bit in enumerate(reversed(bitstring)):\n",
    "        if bit == \"1\":\n",
    "            prob_qubits[i] += freq\n",
    "\n",
    "# Normalize\n",
    "prob_qubits = [p / total_shots for p in prob_qubits]\n",
    "\n",
    "print(\"\\nProbability of each qubit being in |1>:\")\n",
    "for i, p in enumerate(prob_qubits):\n",
    "    print(f\"Qubit {i}: {p:.4f}\")\n"
   ]
  },
  {
   "cell_type": "code",
   "execution_count": null,
   "id": "9b8a226f",
   "metadata": {},
   "outputs": [
    {
     "data": {
      "image/png": "[encoded data removed]",
      "text/plain": [
       "<Figure size 640x480 with 1 Axes>"
      ]
     },
     "metadata": {},
     "output_type": "display_data"
    }
   ],
   "source": [
    "# ===================================\n",
    "# Optional display\n",
    "# ===================================\n",
    "import matplotlib.pyplot as plt\n",
    "#plt.bar(range(n_qubits), probs) this is for plotting bars (in the paper are used for representing the exact diagonalization case)\n",
    "\n",
    "plt.plot(range(len(prob_qubits)), prob_qubits,\n",
    "         '^',          \n",
    "         color='blue', \n",
    "         markersize=10 \n",
    ")\n",
    "plt.ylim(0, 1)\n",
    "plt.xlabel(\"Site Number\")\n",
    "plt.title(\"Occupation number for scattering\\nusing superconducting qubit quantum computer\", fontsize=12)\n",
    "\n",
    "plt.show()"
   ]
  },
  {
   "cell_type": "code",
   "execution_count": null,
   "id": "620237da",
   "metadata": {},
   "outputs": [
    {
     "name": "stdout",
     "output_type": "stream",
     "text": [
      "Resultados guardados en Fig9b)_(F1)_ibm_torino.json\n"
     ]
    },
    {
     "data": {
      "image/png": "[encoded data removed]",
      "text/plain": [
       "<Figure size 640x480 with 1 Axes>"
      ]
     },
     "metadata": {},
     "output_type": "display_data"
    },
    {
     "name": "stdout",
     "output_type": "stream",
     "text": [
      "Histograma guardado en Fig9b)_(F1)_ibm_torino.png\n"
     ]
    }
   ],
   "source": [
    "# ==============================\n",
    "# Save results in JSON\n",
    "# ==============================\n",
    "\n",
    "import os\n",
    "import json\n",
    "\n",
    "save_path = r\"C:\\Users\\pablo\\OneDrive\\Escritorio\\Universidad\\TFG\\Fig9_ibm_torino\\Fig9b)_ibm_torino\"\n",
    "os.makedirs(save_path, exist_ok=True)\n",
    "\n",
    "results_dict = {\n",
    "    \"counts\": counts_real,\n",
    "    \"shots\": shots,\n",
    "    \"prob_qubits\": prob_qubits\n",
    "}\n",
    "\n",
    "label = \"F1\"\n",
    "filename_json = f\"Fig9b)_({label})_ibm_torino.json\"\n",
    "filename_png  = f\"Fig9b)_({label})_ibm_torino.png\"\n",
    "\n",
    "with open(os.path.join(save_path, filename_json), \"w\") as f:\n",
    "    json.dump(results_dict, f, indent=4)\n",
    "\n",
    "print(f\"Results saved in {filename_json}\")\n",
    "\n",
    "# ==============================\n",
    "#  Save the histogram\n",
    "# ==============================\n",
    "plt.plot(range(len(prob_qubits)), prob_qubits,\n",
    "         '^', color='blue', markersize=10)\n",
    "plt.ylim(0, 1)\n",
    "plt.xlabel(\"Site Number\")\n",
    "plt.title(\"Occupation number for free propagation\\nusing superconducting qubit quantum computer\", fontsize=12)\n",
    "\n",
    "\n",
    "plt.savefig(os.path.join(save_path, filename_png), dpi=300)\n",
    "plt.show()\n",
    "\n",
    "print(f\"Histogram saved in {filename_png}\")"
   ]
  }
 ],
 "metadata": {
  "kernelspec": {
   "display_name": "Qiskit",
   "language": "python",
   "name": "python3"
  },
  "language_info": {
   "codemirror_mode": {
    "name": "ipython",
    "version": 3
   },
   "file_extension": ".py",
   "mimetype": "text/x-python",
   "name": "python",
   "nbconvert_exporter": "python",
   "pygments_lexer": "ipython3",
   "version": "3.11.9"
  }
 },
 "nbformat": 4,
 "nbformat_minor": 5
}
