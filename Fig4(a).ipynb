{
 "cells": [
  {
   "cell_type": "code",
   "execution_count": 37,
   "id": "ac250c2d",
   "metadata": {},
   "outputs": [],
   "source": [
    "import numpy as np\n",
    "\n",
    "def onedim_8sites_IsingModel_OBC(qc,n_qubits,dt):\n",
    "    \n",
    "    odd=[0,2,4,6]\n",
    "    even=[1,3,5]\n",
    "    for i in range(n_qubits):\n",
    "        qc.rz(-2*ht*dt,i) #qc.rz(-2 * theta, i)  # Implements e^{i θ Z} to the qubit i\n",
    "    qc.barrier()\n",
    "    for i in odd:\n",
    "        qc.cx(i,i+1)\n",
    "    for i in odd:\n",
    "        qc.rx(-2*J*dt,i)\n",
    "    for i in odd:\n",
    "        qc.cx(i,i+1)\n",
    "    qc.barrier()\n",
    "    for i in even:\n",
    "        qc.cx(i,i+1)\n",
    "    for i in even:\n",
    "        qc.rx(-2*J*dt,i)\n",
    "    for i in even:\n",
    "        qc.cx(i,i+1)\n",
    "    qc.barrier()      \n",
    "\n",
    "def onedim_8sites_IsingModel_PBC(qc,n_qubits,dt):\n",
    "    \n",
    "    odd=[0,2,4,6]\n",
    "    even=[1,3,5]\n",
    "    for i in range(n_qubits):\n",
    "        qc.rz(-2*ht*dt,i) #qc.rz(-2 * theta, i)  # Implements e^{i θ Z} to the qubit i\n",
    "    qc.barrier()\n",
    "    for i in odd:\n",
    "        qc.cx(i,i+1)\n",
    "    for i in odd:\n",
    "        qc.rx(-2*J*dt,i)\n",
    "    for i in odd:\n",
    "        qc.cx(i,i+1)\n",
    "    qc.barrier()\n",
    "    for i in even:\n",
    "        qc.cx(i,i+1)\n",
    "    for i in even:\n",
    "        qc.rx(-2*J*dt,i)\n",
    "    for i in even:\n",
    "        qc.cx(i,i+1)\n",
    "    qc.barrier()      \n",
    "    qc.cx(0,n_qubits-1)\n",
    "    qc.rx(-2*J*dt,0)\n",
    "    qc.cx(0,n_qubits-1)\n",
    "    qc.barrier()      \n"
   ]
  },
  {
   "cell_type": "code",
   "execution_count": null,
   "id": "020f0a21",
   "metadata": {},
   "outputs": [
    {
     "name": "stdout",
     "output_type": "stream",
     "text": [
      "Python en uso: c:\\Users\\pablo\\OneDrive\\Escritorio\\Universidad\\TFG\\Qiskit\\Scripts\\python.exe\n"
     ]
    }
   ],
   "source": [
    "#check which virtual environment using\n",
    "import sys\n",
    "print(\"Python en uso:\", sys.executable)\n"
   ]
  },
  {
   "cell_type": "code",
   "execution_count": null,
   "id": "c112f8fe",
   "metadata": {},
   "outputs": [
    {
     "data": {
      "text/html": [
       "<pre style=\"word-wrap: normal;white-space: pre;background: #fff0;line-height: 1.1;font-family: &quot;Courier New&quot;,Courier,monospace\">      \n",
       "q3_0: \n",
       "      \n",
       "q3_1: \n",
       "      \n",
       "q3_2: \n",
       "      \n",
       "q3_3: \n",
       "      \n",
       "q3_4: \n",
       "      \n",
       "q3_5: \n",
       "      \n",
       "q3_6: \n",
       "      \n",
       "q3_7: \n",
       "      </pre>"
      ],
      "text/plain": [
       "      \n",
       "q3_0: \n",
       "      \n",
       "q3_1: \n",
       "      \n",
       "q3_2: \n",
       "      \n",
       "q3_3: \n",
       "      \n",
       "q3_4: \n",
       "      \n",
       "q3_5: \n",
       "      \n",
       "q3_6: \n",
       "      \n",
       "q3_7: \n",
       "      "
      ]
     },
     "execution_count": 39,
     "metadata": {},
     "output_type": "execute_result"
    }
   ],
   "source": [
    "from qiskit.circuit import QuantumCircuit, QuantumRegister\n",
    "\n",
    "\n",
    "# ===============================\n",
    "# Create an arbitrary circuit\n",
    "# ===============================\n",
    "J=0.02\n",
    "ht=1\n",
    "dt=10\n",
    "time_steps=48\n",
    "n_qubits=8\n",
    "qr=QuantumRegister(n_qubits)\n",
    "qc=QuantumCircuit(qr)\n",
    "\n",
    "qc.draw() #check that we are not \"rewritting\" on an used circuit\n"
   ]
  },
  {
   "cell_type": "code",
   "execution_count": 40,
   "id": "d0a627c0",
   "metadata": {},
   "outputs": [],
   "source": [
    "#Initialize the state vector\n",
    "qc.x(0)\n",
    "\n",
    "for t in range(time_steps):\n",
    "    onedim_8sites_IsingModel_OBC(qc,n_qubits,dt)\n",
    "\n",
    "qc.measure_all()"
   ]
  },
  {
   "cell_type": "code",
   "execution_count": null,
   "id": "a2c3654a",
   "metadata": {},
   "outputs": [],
   "source": [
    "# ===================================\n",
    "# Run on a real quantum computer (here I store my account data locally)\n",
    "# ===================================\n",
    "from qiskit_ibm_runtime import QiskitRuntimeService\n",
    "\n",
    "# Save your data locally so you don't have to re-enter it every time.\n",
    "QiskitRuntimeService.save_account(\n",
    "    channel=\"ibm_cloud\",\n",
    "    token=\"------------------------\",\n",
    "    instance=\"---------------------\",\n",
    "    overwrite=True\n",
    ")\n",
    "\n",
    "service = QiskitRuntimeService()"
   ]
  },
  {
   "cell_type": "code",
   "execution_count": null,
   "id": "2ccba89c",
   "metadata": {},
   "outputs": [
    {
     "name": "stdout",
     "output_type": "stream",
     "text": [
      "[<IBMBackend('ibm_torino')>, <IBMBackend('ibm_brisbane')>]\n"
     ]
    }
   ],
   "source": [
    "# See which devices (simulators/QPUs) you have access to\n",
    "backends = service.backends()\n",
    "print(backends)"
   ]
  },
  {
   "cell_type": "code",
   "execution_count": null,
   "id": "96c1b50e",
   "metadata": {},
   "outputs": [],
   "source": [
    "from qiskit_ibm_runtime import SamplerV2 as Sampler\n",
    "from qiskit import transpile\n",
    "# Get a real backend\n",
    "backend_real = service.backend(\"ibm_torino\")  \n",
    "qc_transpiled = transpile(qc, backend=backend_real)\n",
    "\n",
    "sampler_real = Sampler(backend_real)\n",
    "job_real = sampler_real.run([qc_transpiled], shots=10000)\n",
    "counts_real = job_real.result()[0].data.meas.get_counts()\n"
   ]
  },
  {
   "cell_type": "code",
   "execution_count": 45,
   "id": "65355611",
   "metadata": {},
   "outputs": [
    {
     "name": "stdout",
     "output_type": "stream",
     "text": [
      "\n",
      "Result for the ibm_torino hardware:\n",
      "{'10100100': 25, '00000001': 1251, '10101000': 25, '01001101': 16, '01101010': 16, '00110110': 23, '00110011': 19, '10000001': 135, '00001000': 197, '01000001': 164, '00000000': 894, '10000000': 200, '00010000': 346, '01100000': 91, '10000100': 66, '00000011': 174, '01011101': 12, '00001010': 83, '10001001': 28, '00111010': 14, '00000101': 156, '10110000': 19, '00100110': 31, '00100100': 75, '00000010': 298, '10000011': 38, '01001011': 13, '00011000': 65, '11011010': 8, '00100010': 84, '01010000': 55, '01000000': 225, '01000110': 28, '10000101': 28, '11010000': 33, '00100001': 131, '01101110': 11, '00000100': 432, '00101100': 30, '11000111': 7, '00100000': 269, '11000001': 35, '01101000': 22, '00010001': 130, '01101001': 16, '11000011': 20, '01100111': 12, '01011011': 8, '11101001': 10, '01111010': 6, '10001010': 20, '00001110': 37, '01010101': 12, '01111001': 9, '11000000': 68, '00001011': 42, '00110000': 72, '00010010': 66, '01011010': 9, '00101001': 35, '00011100': 32, '00011010': 22, '00010011': 34, '01000101': 39, '01000100': 70, '01011110': 13, '10101110': 5, '00011111': 16, '01001001': 45, '01100011': 11, '01011000': 31, '10010110': 17, '10101101': 7, '10011011': 7, '00001100': 90, '01000011': 32, '00111001': 15, '01010001': 45, '10010001': 29, '01010010': 32, '11110000': 17, '10010100': 27, '01111011': 6, '11110001': 10, '00101000': 56, '01000010': 73, '10010000': 54, '10010010': 21, '10001011': 16, '10010111': 16, '00011101': 18, '00001101': 63, '11110100': 10, '00010101': 39, '11101100': 4, '00100101': 23, '11001001': 22, '00001001': 129, '11010001': 15, '10001111': 11, '00011011': 22, '00101101': 16, '01100001': 61, '00111100': 20, '00000111': 59, '10001000': 59, '11101010': 3, '11001110': 8, '10011010': 15, '01001000': 66, '11111111': 3, '00110111': 6, '10100111': 7, '00010100': 89, '11101000': 16, '11100100': 13, '00100111': 20, '01110011': 9, '01101100': 7, '10000010': 68, '00010111': 14, '10100000': 54, '01110000': 28, '10101001': 12, '00110100': 31, '00100011': 39, '11100010': 8, '11011100': 5, '10111001': 7, '11001101': 8, '10011000': 25, '01111000': 16, '11100000': 30, '00000110': 107, '01010110': 18, '01000111': 12, '00010110': 37, '00001111': 21, '01001100': 27, '01011111': 9, '11000101': 12, '01011100': 14, '11001100': 18, '01100100': 29, '10101010': 11, '11101111': 4, '00111101': 8, '11001010': 14, '01100010': 27, '10100101': 12, '01001110': 14, '00110010': 22, '10110001': 13, '00110001': 50, '01010111': 9, '11010011': 8, '10111010': 10, '10011001': 12, '10100010': 16, '10111101': 2, '00111111': 9, '01111101': 3, '11101110': 10, '10001100': 28, '01001010': 23, '01111100': 9, '10000110': 33, '10000111': 17, '11011110': 5, '10001110': 7, '01100110': 11, '11000010': 21, '11011011': 9, '11010010': 17, '00110101': 17, '10110101': 13, '11110010': 5, '11010100': 18, '11100101': 4, '00111000': 24, '01110101': 6, '01110010': 16, '11100011': 7, '11011001': 3, '10110011': 6, '11000100': 27, '10001101': 12, '00011001': 30, '01011001': 13, '01101101': 10, '10111110': 8, '11000110': 12, '10100001': 28, '11100001': 13, '10110100': 14, '00101111': 4, '10111000': 16, '11001011': 7, '10011111': 6, '10011110': 8, '01110001': 19, '10011101': 11, '10100110': 16, '01100101': 9, '01010100': 28, '00011110': 15, '01110100': 9, '11111001': 4, '00101011': 13, '11001000': 27, '11011000': 11, '10100011': 10, '10111111': 3, '10010101': 15, '11110011': 5, '00101110': 9, '10110110': 6, '10111100': 6, '11110111': 7, '01110110': 8, '10110111': 5, '11111101': 5, '00101010': 19, '11011101': 1, '10101100': 9, '01101111': 4, '10011100': 13, '11101011': 7, '11010101': 6, '01010011': 11, '10101011': 5, '11100110': 6, '10110010': 14, '10010011': 12, '11010111': 4, '10101111': 6, '01101011': 3, '01001111': 5, '01110111': 4, '01111111': 6, '11110101': 4, '11111100': 2, '00111011': 7, '11100111': 4, '01111110': 3, '11001111': 4, '11101101': 2, '11111011': 1, '11111110': 3, '11111000': 6, '00111110': 3, '11111010': 3, '11110110': 3, '11011111': 2, '10111011': 2}\n",
      "Total shots executed: 10000\n"
     ]
    }
   ],
   "source": [
    "# Inspect result of SamplerV2 primitive performed on real IBM quantum hardware\n",
    "print(\"\\nResult for the ibm_torino hardware:\")\n",
    "print(counts_real)\n",
    "\n",
    "result_real = job_real.result()\n",
    "spans = result_real.metadata[\"execution\"][\"execution_spans\"]\n",
    "shots = spans[0].size\n",
    "print(\"Total shots executed:\", shots)"
   ]
  },
  {
   "cell_type": "code",
   "execution_count": null,
   "id": "bb0f020e",
   "metadata": {},
   "outputs": [
    {
     "name": "stdout",
     "output_type": "stream",
     "text": [
      "\n",
      "Probabilidad de cada qubit de estar en |1>:\n",
      "Qubit 0: 0.4027\n",
      "Qubit 1: 0.2498\n",
      "Qubit 2: 0.2697\n",
      "Qubit 3: 0.2276\n",
      "Qubit 4: 0.2456\n",
      "Qubit 5: 0.2312\n",
      "Qubit 6: 0.2352\n",
      "Qubit 7: 0.2130\n"
     ]
    }
   ],
   "source": [
    "# ===================================\n",
    "#  Calculate the probability that each qubit is in state |1>.\n",
    "# ===================================\n",
    "total_shots = sum(counts_real.values())\n",
    "prob_qubits = [0] * n_qubits\n",
    "\n",
    "for bitstring, freq in counts_real.items():\n",
    "    # bitstring is in little-endian order (q2 q1 q0)\n",
    "    for i, bit in enumerate(reversed(bitstring)):\n",
    "        if bit == \"1\":\n",
    "            prob_qubits[i] += freq\n",
    "\n",
    "# Normalize\n",
    "prob_qubits = [p / total_shots for p in prob_qubits]\n",
    "\n",
    "print(\"\\nProbability of each qubit being in |1>:\")\n",
    "for i, p in enumerate(prob_qubits):\n",
    "    print(f\"Qubit {i}: {p:.4f}\")\n"
   ]
  },
  {
   "cell_type": "code",
   "execution_count": null,
   "id": "9b8a226f",
   "metadata": {},
   "outputs": [
    {
     "data": {
      "image/png": "[encoded data removed]",
      "text/plain": [
       "<Figure size 640x480 with 1 Axes>"
      ]
     },
     "metadata": {},
     "output_type": "display_data"
    }
   ],
   "source": [
    "# ===================================\n",
    "# Optional display\n",
    "# ===================================\n",
    "import matplotlib.pyplot as plt\n",
    "#plt.bar(range(n_qubits), probs) this is for plotting bars (in the paper are used for representing the exact diagonalization case)\n",
    "\n",
    "plt.plot(range(len(prob_qubits)), prob_qubits,\n",
    "         '^',          \n",
    "         color='blue', \n",
    "         markersize=10 \n",
    ")\n",
    "plt.ylim(0, 1)\n",
    "plt.xlabel(\"Site Number\")\n",
    "plt.title(\"Occupation number for scattering\\nusing superconducting qubit quantum computer\", fontsize=12)\n",
    "\n",
    "plt.show()"
   ]
  },
  {
   "cell_type": "code",
   "execution_count": null,
   "id": "620237da",
   "metadata": {},
   "outputs": [
    {
     "name": "stdout",
     "output_type": "stream",
     "text": [
      "Resultados guardados en Fig9a)_(G1)_ibm_torino.json\n"
     ]
    },
    {
     "data": {
      "image/png": "[encoded data removed]",
      "text/plain": [
       "<Figure size 640x480 with 1 Axes>"
      ]
     },
     "metadata": {},
     "output_type": "display_data"
    },
    {
     "name": "stdout",
     "output_type": "stream",
     "text": [
      "Histograma guardado en Fig9a)_(G1)_ibm_torino.png\n"
     ]
    }
   ],
   "source": [
    "# ==============================\n",
    "# Save results in JSON\n",
    "# ==============================\n",
    "\n",
    "import os\n",
    "import json\n",
    "\n",
    "save_path = r\"C:\\Users\\pablo\\OneDrive\\Escritorio\\Universidad\\TFG\\Fig9_ibm_torino\\Fig9a)_ibm_torino\"\n",
    "os.makedirs(save_path, exist_ok=True)\n",
    "\n",
    "results_dict = {\n",
    "    \"counts\": counts_real,\n",
    "    \"shots\": shots,\n",
    "    \"prob_qubits\": prob_qubits\n",
    "}\n",
    "\n",
    "label = \"G1\"\n",
    "filename_json = f\"Fig9a)_({label})_ibm_torino.json\"\n",
    "filename_png  = f\"Fig9a)_({label})_ibm_torino.png\"\n",
    "\n",
    "with open(os.path.join(save_path, filename_json), \"w\") as f:\n",
    "    json.dump(results_dict, f, indent=4)\n",
    "\n",
    "print(f\"Results saved in {filename_json}\")\n",
    "\n",
    "# ==============================\n",
    "# 6. Guardar el histograma\n",
    "# ==============================\n",
    "plt.plot(range(len(prob_qubits)), prob_qubits,\n",
    "         '^', color='blue', markersize=10)\n",
    "plt.ylim(0, 1)\n",
    "plt.xlabel(\"Site Number\")\n",
    "plt.title(\"Occupation number for free propagation\\nusing superconducting qubit quantum computer\", fontsize=12)\n",
    "\n",
    "\n",
    "plt.savefig(os.path.join(save_path, filename_png), dpi=300)\n",
    "plt.show()\n",
    "\n",
    "print(f\"Histogram saved in {filename_png}\")"
   ]
  }
 ],
 "metadata": {
  "kernelspec": {
   "display_name": "Qiskit",
   "language": "python",
   "name": "python3"
  },
  "language_info": {
   "codemirror_mode": {
    "name": "ipython",
    "version": 3
   },
   "file_extension": ".py",
   "mimetype": "text/x-python",
   "name": "python",
   "nbconvert_exporter": "python",
   "pygments_lexer": "ipython3",
   "version": "3.11.9"
  }
 },
 "nbformat": 4,
 "nbformat_minor": 5
}
