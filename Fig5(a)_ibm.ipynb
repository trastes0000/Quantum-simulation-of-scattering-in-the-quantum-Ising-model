{
 "cells": [
  {
   "cell_type": "code",
   "execution_count": 1,
   "id": "ac250c2d",
   "metadata": {},
   "outputs": [],
   "source": [
    "import numpy as np\n",
    "\n",
    "def onedim_8sites_IsingModel_OBC(qc,n_qubits,dt):\n",
    "    \n",
    "    odd=[0,2,4,6]\n",
    "    even=[1,3,5]\n",
    "    for i in range(n_qubits):\n",
    "        qc.rz(-2*ht*dt,i) #qc.rz(-2 * theta, i)  # Implements e^{i θ Z} to the qubit i\n",
    "    qc.barrier()\n",
    "    for i in odd:\n",
    "        qc.cx(i,i+1)\n",
    "    for i in odd:\n",
    "        qc.rx(-2*J*dt,i)\n",
    "    for i in odd:\n",
    "        qc.cx(i,i+1)\n",
    "    qc.barrier()\n",
    "    for i in even:\n",
    "        qc.cx(i,i+1)\n",
    "    for i in even:\n",
    "        qc.rx(-2*J*dt,i)\n",
    "    for i in even:\n",
    "        qc.cx(i,i+1)\n",
    "    qc.barrier()      \n",
    "\n",
    "def onedim_8sites_IsingModel_PBC(qc,n_qubits,dt):\n",
    "    \n",
    "    odd=[0,2,4,6]\n",
    "    even=[1,3,5]\n",
    "    for i in range(n_qubits):\n",
    "        qc.rz(-2*ht*dt,i) #qc.rz(-2 * theta, i)  # Implements e^{i θ Z} to the qubit i\n",
    "    qc.barrier()\n",
    "    for i in odd:\n",
    "        qc.cx(i,i+1)\n",
    "    for i in odd:\n",
    "        qc.rx(-2*J*dt,i)\n",
    "    for i in odd:\n",
    "        qc.cx(i,i+1)\n",
    "    qc.barrier()\n",
    "    for i in even:\n",
    "        qc.cx(i,i+1)\n",
    "    for i in even:\n",
    "        qc.rx(-2*J*dt,i)\n",
    "    for i in even:\n",
    "        qc.cx(i,i+1)\n",
    "    qc.barrier()      \n",
    "    qc.cx(0,n_qubits-1)\n",
    "    qc.rx(-2*J*dt,0)\n",
    "    qc.cx(0,n_qubits-1)\n",
    "    qc.barrier()      \n"
   ]
  },
  {
   "cell_type": "code",
   "execution_count": null,
   "id": "020f0a21",
   "metadata": {},
   "outputs": [
    {
     "name": "stdout",
     "output_type": "stream",
     "text": [
      "Python en uso: c:\\Users\\pablo\\OneDrive\\Escritorio\\Universidad\\TFG\\Qiskit\\Scripts\\python.exe\n"
     ]
    }
   ],
   "source": [
    "import sys\n",
    "print(\"Python en uso:\", sys.executable)"
   ]
  },
  {
   "cell_type": "code",
   "execution_count": null,
   "id": "c112f8fe",
   "metadata": {},
   "outputs": [],
   "source": [
    "from qiskit.circuit import QuantumCircuit, QuantumRegister\n",
    "\n",
    "\n",
    "# ===============================\n",
    "# Create an arbitrary circuit\n",
    "# ===============================\n",
    "J=0.02\n",
    "ht=1\n",
    "dt=10\n",
    "time_steps=4\n",
    "n_qubits=8\n",
    "qr=QuantumRegister(n_qubits)\n",
    "qc=QuantumCircuit(qr)\n",
    "\n",
    "#Initialize the state vector\n",
    "qc.x(0)\n",
    "qc.x(7)\n",
    "\n",
    "for t in range(time_steps):\n",
    "    onedim_8sites_IsingModel_OBC(qc,n_qubits,dt)\n",
    "\n",
    "qc.measure_all()"
   ]
  },
  {
   "cell_type": "code",
   "execution_count": null,
   "id": "a2c3654a",
   "metadata": {},
   "outputs": [],
   "source": [
    "# ===================================\n",
    "#  Run on a real quantum computer (here I store my account data locally)\n",
    "# ===================================\n",
    "from qiskit_ibm_runtime import QiskitRuntimeService\n",
    "\n",
    "# Save data locally so you don't have to re-enter it every time\n",
    "QiskitRuntimeService.save_account(\n",
    "    channel=\"ibm_cloud\",\n",
    "    token=\"------------------\",\n",
    "    instance=\"---------------\",\n",
    "    overwrite=True\n",
    ")"
   ]
  },
  {
   "cell_type": "code",
   "execution_count": null,
   "id": "2ccba89c",
   "metadata": {},
   "outputs": [
    {
     "name": "stdout",
     "output_type": "stream",
     "text": [
      "[<IBMBackend('ibm_torino')>, <IBMBackend('ibm_brisbane')>]\n"
     ]
    }
   ],
   "source": [
    "service = QiskitRuntimeService()\n",
    "\n",
    "# See which devices (simulators/QPUs) you have access to\n",
    "backends = service.backends()\n",
    "print(backends)"
   ]
  },
  {
   "cell_type": "code",
   "execution_count": null,
   "id": "96c1b50e",
   "metadata": {},
   "outputs": [],
   "source": [
    "from qiskit_ibm_runtime import SamplerV2 as Sampler\n",
    "from qiskit import transpile\n",
    "# Get a real backend\n",
    "backend_real = service.backend(\"ibm_torino\")  \n",
    "qc_transpiled = transpile(qc, backend=backend_real)\n",
    "\n",
    "sampler_real = Sampler(backend_real)\n",
    "job_real = sampler_real.run([qc_transpiled], shots=10000)\n",
    "counts_real = job_real.result()[0].data.meas.get_counts()\n"
   ]
  },
  {
   "cell_type": "code",
   "execution_count": 10,
   "id": "65355611",
   "metadata": {},
   "outputs": [
    {
     "name": "stdout",
     "output_type": "stream",
     "text": [
      "\n",
      "Result for the ibm_torino hardware:\n",
      "{'01000010': 971, '00010001': 37, '00000001': 255, '00110110': 5, '10000100': 273, '01000001': 1395, '01000000': 88, '01001001': 36, '01111001': 4, '10001101': 36, '10000010': 1394, '10000001': 1787, '00000100': 40, '11101010': 5, '00100100': 46, '01010010': 28, '01000110': 45, '01000100': 213, '01110010': 24, '10011001': 60, '01100001': 35, '00000010': 183, '00100001': 295, '01000011': 74, '00010010': 27, '00110011': 4, '11010001': 43, '10001010': 48, '01100010': 25, '01110001': 39, '01001000': 26, '11100001': 55, '10000101': 70, '01011011': 5, '10000000': 103, '10000111': 51, '00000011': 19, '01011010': 20, '11001100': 3, '10011010': 30, '01000111': 44, '00000101': 7, '10110001': 37, '01100100': 4, '10001001': 56, '01101100': 7, '11001111': 1, '00100011': 14, '00101001': 15, '10100001': 44, '10110010': 16, '01001101': 24, '11000001': 67, '01011000': 5, '00001000': 7, '00100010': 234, '10101111': 1, '11101101': 2, '10001011': 37, '01111010': 3, '01001010': 25, '00111010': 7, '11010010': 20, '01000101': 50, '00100000': 21, '01100000': 2, '00000000': 15, '11001010': 15, '00100101': 14, '10001000': 24, '10001110': 36, '01010001': 35, '11000010': 55, '01101010': 13, '01010000': 5, '01011001': 32, '00110001': 15, '11100010': 50, '01001011': 27, '10100011': 15, '01010011': 20, '00001011': 10, '00101101': 2, '00101010': 8, '10100010': 30, '00101100': 3, '10010110': 11, '10010001': 35, '10000011': 112, '01010100': 7, '00111100': 4, '00001010': 12, '10101010': 7, '10101011': 1, '10010011': 29, '11010000': 4, '11000110': 13, '00011010': 12, '00110000': 1, '00100111': 11, '10100111': 2, '10111000': 2, '10100000': 2, '10000110': 30, '10110011': 3, '10011110': 9, '10100110': 7, '10100101': 13, '10110101': 2, '10010010': 30, '10101001': 12, '11000100': 7, '10010101': 6, '10001100': 9, '00111001': 11, '01100101': 10, '11000101': 13, '11001001': 22, '00001100': 4, '01110100': 10, '10011000': 4, '10011111': 6, '01101001': 13, '11000011': 7, '01100110': 12, '11100101': 7, '01110110': 6, '01011100': 5, '10111011': 3, '00111101': 3, '00010100': 7, '11000000': 6, '00110010': 11, '01001100': 10, '01010101': 5, '10010100': 7, '00010011': 5, '00100110': 8, '01001110': 27, '10111001': 3, '11010110': 2, '11011101': 2, '01101110': 2, '01101101': 1, '01111011': 2, '01011101': 8, '00110101': 3, '01011110': 7, '10111010': 3, '11010100': 2, '11110001': 3, '10100100': 4, '01010110': 15, '10010111': 3, '00011111': 2, '00010000': 4, '01110101': 8, '11011011': 3, '10011011': 5, '10001111': 13, '00000111': 10, '01101111': 1, '00011001': 8, '11111001': 2, '10111101': 2, '00001001': 7, '11100000': 3, '01110011': 2, '11001101': 3, '01100011': 9, '11110101': 1, '00010111': 1, '00010101': 5, '11000111': 3, '00000110': 11, '01011111': 7, '10011101': 7, '01100111': 3, '01010111': 8, '10110111': 2, '00101111': 3, '00111011': 3, '11001000': 3, '10011100': 10, '11011111': 1, '11110010': 4, '00110111': 1, '01111110': 3, '10010000': 5, '11111000': 1, '01001111': 6, '01101000': 1, '00011101': 3, '00110100': 2, '00111110': 1, '11100100': 4, '10101100': 3, '00101011': 4, '11101001': 1, '10111110': 1, '10110000': 3, '11010111': 3, '00001101': 6, '11110111': 1, '11001110': 2, '00001111': 3, '00011110': 2, '01111100': 2, '11001011': 3, '01110000': 2, '11110100': 1, '00011011': 1, '11011000': 1, '11110110': 1, '11101000': 2, '11011110': 1, '11100011': 4, '11110011': 1, '11011010': 3, '00001110': 4, '01111111': 3, '11100111': 3, '11100110': 1, '10101110': 1, '11011001': 1, '10101000': 1, '10111111': 1, '10101101': 1, '00011000': 2, '00101000': 1, '00010110': 1, '11010101': 1, '10110100': 1}\n",
      "Total shots executed: 10000\n"
     ]
    }
   ],
   "source": [
    "# Inspect result of SamplerV2 primitive performed on real IBM quantum hardware\n",
    "print(\"\\nResult for the ibm_torino hardware:\")\n",
    "print(counts_real)\n",
    "\n",
    "result_real = job_real.result()\n",
    "spans = result_real.metadata[\"execution\"][\"execution_spans\"]\n",
    "shots = spans[0].size\n",
    "print(\"Total shots executed:\", shots)\n",
    "\n"
   ]
  },
  {
   "cell_type": "code",
   "execution_count": null,
   "id": "bb0f020e",
   "metadata": {},
   "outputs": [
    {
     "name": "stdout",
     "output_type": "stream",
     "text": [
      "\n",
      "Probabilidad de cada qubit de estar en |1>:\n",
      "Qubit 0: 0.5391\n",
      "Qubit 1: 0.4193\n",
      "Qubit 2: 0.1461\n",
      "Qubit 3: 0.0982\n",
      "Qubit 4: 0.0946\n",
      "Qubit 5: 0.1371\n",
      "Qubit 6: 0.3981\n",
      "Qubit 7: 0.5021\n"
     ]
    }
   ],
   "source": [
    "# ===================================\n",
    "# 3. Calculate the probability that each qubit is in state |1>\n",
    "#\n",
    "# ===================================\n",
    "total_shots = sum(counts_real.values())\n",
    "prob_qubits = [0] * n_qubits\n",
    "\n",
    "for bitstring, freq in counts_real.items():\n",
    "    # bitstring is in little-endian order (q2 q1 q0)\n",
    "    for i, bit in enumerate(reversed(bitstring)):\n",
    "        if bit == \"1\":\n",
    "            prob_qubits[i] += freq\n",
    "\n",
    "# Normalize\n",
    "prob_qubits = [p / total_shots for p in prob_qubits]\n",
    "\n",
    "print(\"\\nProbability of each qubit being in |1>:\")\n",
    "for i, p in enumerate(prob_qubits):\n",
    "    print(f\"Qubit {i}: {p:.4f}\")\n"
   ]
  },
  {
   "cell_type": "code",
   "execution_count": null,
   "id": "9b8a226f",
   "metadata": {},
   "outputs": [
    {
     "data": {
      "image/png": "[encoded data removed]",
      "text/plain": [
       "<Figure size 640x480 with 1 Axes>"
      ]
     },
     "metadata": {},
     "output_type": "display_data"
    }
   ],
   "source": [
    "# ===================================\n",
    "# Optional display\n",
    "# ===================================\n",
    "import matplotlib.pyplot as plt\n",
    "#plt.bar(range(n_qubits), probs) this is for plotting bars (in the paper are used for representing the exact diagonalization case)\n",
    "\n",
    "plt.plot(range(len(prob_qubits)), prob_qubits,\n",
    "         '^',          \n",
    "         color='blue', \n",
    "         markersize=10 \n",
    ")\n",
    "plt.ylim(0, 1)\n",
    "plt.xlabel(\"Site Number\")\n",
    "plt.title(\"Occupation number for scattering using superconducting qubit quantum computer\")\n",
    "plt.show()"
   ]
  },
  {
   "cell_type": "code",
   "execution_count": null,
   "id": "620237da",
   "metadata": {},
   "outputs": [
    {
     "ename": "FileNotFoundError",
     "evalue": "[Errno 2] No such file or directory: 'results/ibm_torino_case.json'",
     "output_type": "error",
     "traceback": [
      "\u001b[31m---------------------------------------------------------------------------\u001b[39m",
      "\u001b[31mFileNotFoundError\u001b[39m                         Traceback (most recent call last)",
      "\u001b[36mCell\u001b[39m\u001b[36m \u001b[39m\u001b[32mIn[13]\u001b[39m\u001b[32m, line 14\u001b[39m\n\u001b[32m      6\u001b[39m \u001b[38;5;28;01mimport\u001b[39;00m\u001b[38;5;250m \u001b[39m\u001b[34;01mjson\u001b[39;00m\n\u001b[32m      8\u001b[39m results_dict = {\n\u001b[32m      9\u001b[39m     \u001b[33m\"\u001b[39m\u001b[33mcounts\u001b[39m\u001b[33m\"\u001b[39m: counts_real,\n\u001b[32m     10\u001b[39m     \u001b[33m\"\u001b[39m\u001b[33mshots\u001b[39m\u001b[33m\"\u001b[39m: shots,\n\u001b[32m     11\u001b[39m     \u001b[33m\"\u001b[39m\u001b[33mprob_qubits\u001b[39m\u001b[33m\"\u001b[39m: prob_qubits\n\u001b[32m     12\u001b[39m }\n\u001b[32m---> \u001b[39m\u001b[32m14\u001b[39m \u001b[38;5;28;01mwith\u001b[39;00m \u001b[38;5;28;43mopen\u001b[39;49m\u001b[43m(\u001b[49m\u001b[33;43m\"\u001b[39;49m\u001b[33;43mresults/ibm_torino_case.json\u001b[39;49m\u001b[33;43m\"\u001b[39;49m\u001b[43m,\u001b[49m\u001b[43m \u001b[49m\u001b[33;43m\"\u001b[39;49m\u001b[33;43mw\u001b[39;49m\u001b[33;43m\"\u001b[39;49m\u001b[43m)\u001b[49m \u001b[38;5;28;01mas\u001b[39;00m f:\n\u001b[32m     15\u001b[39m     json.dump(results_dict, f, indent=\u001b[32m4\u001b[39m)\n\u001b[32m     17\u001b[39m \u001b[38;5;28mprint\u001b[39m(\u001b[33m\"\u001b[39m\u001b[33mResultados guardados en results/ibm_torino_case.json\u001b[39m\u001b[33m\"\u001b[39m)\n",
      "\u001b[36mFile \u001b[39m\u001b[32mc:\\Users\\pablo\\OneDrive\\Escritorio\\Universidad\\TFG\\Qiskit\\Lib\\site-packages\\IPython\\core\\interactiveshell.py:343\u001b[39m, in \u001b[36m_modified_open\u001b[39m\u001b[34m(file, *args, **kwargs)\u001b[39m\n\u001b[32m    336\u001b[39m \u001b[38;5;28;01mif\u001b[39;00m file \u001b[38;5;129;01min\u001b[39;00m {\u001b[32m0\u001b[39m, \u001b[32m1\u001b[39m, \u001b[32m2\u001b[39m}:\n\u001b[32m    337\u001b[39m     \u001b[38;5;28;01mraise\u001b[39;00m \u001b[38;5;167;01mValueError\u001b[39;00m(\n\u001b[32m    338\u001b[39m         \u001b[33mf\u001b[39m\u001b[33m\"\u001b[39m\u001b[33mIPython won\u001b[39m\u001b[33m'\u001b[39m\u001b[33mt let you open fd=\u001b[39m\u001b[38;5;132;01m{\u001b[39;00mfile\u001b[38;5;132;01m}\u001b[39;00m\u001b[33m by default \u001b[39m\u001b[33m\"\u001b[39m\n\u001b[32m    339\u001b[39m         \u001b[33m\"\u001b[39m\u001b[33mas it is likely to crash IPython. If you know what you are doing, \u001b[39m\u001b[33m\"\u001b[39m\n\u001b[32m    340\u001b[39m         \u001b[33m\"\u001b[39m\u001b[33myou can use builtins\u001b[39m\u001b[33m'\u001b[39m\u001b[33m open.\u001b[39m\u001b[33m\"\u001b[39m\n\u001b[32m    341\u001b[39m     )\n\u001b[32m--> \u001b[39m\u001b[32m343\u001b[39m \u001b[38;5;28;01mreturn\u001b[39;00m \u001b[43mio_open\u001b[49m\u001b[43m(\u001b[49m\u001b[43mfile\u001b[49m\u001b[43m,\u001b[49m\u001b[43m \u001b[49m\u001b[43m*\u001b[49m\u001b[43margs\u001b[49m\u001b[43m,\u001b[49m\u001b[43m \u001b[49m\u001b[43m*\u001b[49m\u001b[43m*\u001b[49m\u001b[43mkwargs\u001b[49m\u001b[43m)\u001b[49m\n",
      "\u001b[31mFileNotFoundError\u001b[39m: [Errno 2] No such file or directory: 'results/ibm_torino_case.json'"
     ]
    }
   ],
   "source": [
    "# ==============================\n",
    "# Save results in JSON\n",
    "# ==============================\n",
    "\n",
    "import os\n",
    "import json\n",
    "\n",
    "results_dict = {\n",
    "    \"counts\": counts_real,\n",
    "    \"shots\": shots,\n",
    "    \"prob_qubits\": prob_qubits\n",
    "}\n",
    "\n",
    "with open(\"results/ibm_torino_case.json\", \"w\") as f:\n",
    "    json.dump(results_dict, f, indent=4)\n",
    "\n",
    "print(\"Results saved in results/ibm_torino_case.json\")\n",
    "\n",
    "# ==============================\n",
    "# 6. Guardar el histograma\n",
    "# ==============================\n",
    "plt.plot(range(len(prob_qubits)), prob_qubits,\n",
    "         '^', color='blue', markersize=10)\n",
    "plt.ylim(0, 1)\n",
    "plt.xlabel(\"Site Number\")\n",
    "plt.title(\"Occupation number for scattering using superconducting qubit quantum computer\")\n",
    "\n",
    "plt.savefig(\"results/ibm_torino_case.png\", dpi=300)\n",
    "plt.show()\n",
    "\n",
    "print(\"Histogram saved in results/ibm_torino_case.png\")"
   ]
  }
 ],
 "metadata": {
  "kernelspec": {
   "display_name": "Qiskit",
   "language": "python",
   "name": "python3"
  },
  "language_info": {
   "codemirror_mode": {
    "name": "ipython",
    "version": 3
   },
   "file_extension": ".py",
   "mimetype": "text/x-python",
   "name": "python",
   "nbconvert_exporter": "python",
   "pygments_lexer": "ipython3",
   "version": "3.11.9"
  }
 },
 "nbformat": 4,
 "nbformat_minor": 5
}
