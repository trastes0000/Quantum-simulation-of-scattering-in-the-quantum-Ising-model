{
 "cells": [
  {
   "cell_type": "code",
   "execution_count": 1,
   "id": "ac250c2d",
   "metadata": {},
   "outputs": [],
   "source": [
    "import numpy as np\n",
    "\n",
    "def onedim_8sites_IsingModel_OBC(qc,n_qubits,dt):\n",
    "    \n",
    "    odd=[0,2,4,6]\n",
    "    even=[1,3,5]\n",
    "    for i in range(n_qubits):\n",
    "        qc.rz(-2*ht*dt,i) #qc.rz(-2 * theta, i)  # Implements e^{i θ Z} to the qubit i\n",
    "    qc.barrier()\n",
    "    for i in odd:\n",
    "        qc.cx(i,i+1)\n",
    "    for i in odd:\n",
    "        qc.rx(-2*J*dt,i)\n",
    "    for i in odd:\n",
    "        qc.cx(i,i+1)\n",
    "    qc.barrier()\n",
    "    for i in even:\n",
    "        qc.cx(i,i+1)\n",
    "    for i in even:\n",
    "        qc.rx(-2*J*dt,i)\n",
    "    for i in even:\n",
    "        qc.cx(i,i+1)\n",
    "    qc.barrier()      \n",
    "\n",
    "def onedim_8sites_IsingModel_PBC(qc,n_qubits,dt):\n",
    "    \n",
    "    odd=[0,2,4,6]\n",
    "    even=[1,3,5]\n",
    "    for i in range(n_qubits):\n",
    "        qc.rz(-2*ht*dt,i) #qc.rz(-2 * theta, i)  # Implements e^{i θ Z} to the qubit i\n",
    "    qc.barrier()\n",
    "    for i in odd:\n",
    "        qc.cx(i,i+1)\n",
    "    for i in odd:\n",
    "        qc.rx(-2*J*dt,i)\n",
    "    for i in odd:\n",
    "        qc.cx(i,i+1)\n",
    "    qc.barrier()\n",
    "    for i in even:\n",
    "        qc.cx(i,i+1)\n",
    "    for i in even:\n",
    "        qc.rx(-2*J*dt,i)\n",
    "    for i in even:\n",
    "        qc.cx(i,i+1)\n",
    "    qc.barrier()      \n",
    "    qc.cx(0,n_qubits-1)\n",
    "    qc.rx(-2*J*dt,0)\n",
    "    qc.cx(0,n_qubits-1)\n",
    "    qc.barrier()      \n"
   ]
  },
  {
   "cell_type": "code",
   "execution_count": 2,
   "id": "020f0a21",
   "metadata": {},
   "outputs": [
    {
     "name": "stdout",
     "output_type": "stream",
     "text": [
      "Python en uso: c:\\Users\\pablo\\OneDrive\\Escritorio\\Universidad\\TFG\\Qiskit\\Scripts\\python.exe\n"
     ]
    }
   ],
   "source": [
    "import sys\n",
    "print(\"Python en uso:\", sys.executable)\n"
   ]
  },
  {
   "cell_type": "code",
   "execution_count": null,
   "id": "c112f8fe",
   "metadata": {},
   "outputs": [
    {
     "data": {
      "text/html": [
       "<pre style=\"word-wrap: normal;white-space: pre;background: #fff0;line-height: 1.1;font-family: &quot;Courier New&quot;,Courier,monospace\">      \n",
       "q0_0: \n",
       "      \n",
       "q0_1: \n",
       "      \n",
       "q0_2: \n",
       "      \n",
       "q0_3: \n",
       "      \n",
       "q0_4: \n",
       "      \n",
       "q0_5: \n",
       "      \n",
       "q0_6: \n",
       "      \n",
       "q0_7: \n",
       "      </pre>"
      ],
      "text/plain": [
       "      \n",
       "q0_0: \n",
       "      \n",
       "q0_1: \n",
       "      \n",
       "q0_2: \n",
       "      \n",
       "q0_3: \n",
       "      \n",
       "q0_4: \n",
       "      \n",
       "q0_5: \n",
       "      \n",
       "q0_6: \n",
       "      \n",
       "q0_7: \n",
       "      "
      ]
     },
     "execution_count": 3,
     "metadata": {},
     "output_type": "execute_result"
    }
   ],
   "source": [
    "from qiskit.circuit import QuantumCircuit, QuantumRegister\n",
    "\n",
    "\n",
    "# ===============================\n",
    "# Create an arbitrary circuit\n",
    "# ===============================\n",
    "J=0.02\n",
    "ht=1\n",
    "dt=10\n",
    "time_steps=16\n",
    "n_qubits=8\n",
    "qr=QuantumRegister(n_qubits)\n",
    "qc=QuantumCircuit(qr)\n",
    "\n",
    "qc.draw() #check that we are not \"rewritting\" on an used circuit\n"
   ]
  },
  {
   "cell_type": "code",
   "execution_count": 4,
   "id": "d0a627c0",
   "metadata": {},
   "outputs": [],
   "source": [
    "#Initialize the state vector\n",
    "qc.x(3)\n",
    "qc.x(7)\n",
    "\n",
    "for t in range(time_steps):\n",
    "    onedim_8sites_IsingModel_PBC(qc,n_qubits,dt)\n",
    "\n",
    "qc.measure_all()"
   ]
  },
  {
   "cell_type": "code",
   "execution_count": null,
   "id": "a2c3654a",
   "metadata": {},
   "outputs": [],
   "source": [
    "# ===================================\n",
    "# Run on a real quantum computer (here I store my account data locally)\n",
    "# ===================================\n",
    "from qiskit_ibm_runtime import QiskitRuntimeService\n",
    "\n",
    "# Guarda los datos localmente para no tener que reintroducirlos siempre\n",
    "QiskitRuntimeService.save_account(\n",
    "    channel=\"ibm_cloud\",\n",
    "    token=\"---------------------\",\n",
    "    instance=\"------------------\",\n",
    "    overwrite=True\n",
    ")"
   ]
  },
  {
   "cell_type": "code",
   "execution_count": null,
   "id": "2ccba89c",
   "metadata": {},
   "outputs": [
    {
     "name": "stdout",
     "output_type": "stream",
     "text": [
      "[<IBMBackend('ibm_brisbane')>, <IBMBackend('ibm_torino')>]\n"
     ]
    }
   ],
   "source": [
    "service = QiskitRuntimeService()\n",
    "\n",
    "# See which devices (simulators/QPUs) you have access to\n",
    "backends = service.backends()\n",
    "print(backends)"
   ]
  },
  {
   "cell_type": "code",
   "execution_count": null,
   "id": "96c1b50e",
   "metadata": {},
   "outputs": [],
   "source": [
    "from qiskit_ibm_runtime import SamplerV2 as Sampler\n",
    "from qiskit import transpile\n",
    "# Get a real backend\n",
    "backend_real = service.backend(\"ibm_torino\")  \n",
    "qc_transpiled = transpile(qc, backend=backend_real)\n",
    "\n",
    "sampler_real = Sampler(backend_real)\n",
    "job_real = sampler_real.run([qc_transpiled], shots=10000)\n",
    "counts_real = job_real.result()[0].data.meas.get_counts()\n"
   ]
  },
  {
   "cell_type": "code",
   "execution_count": 9,
   "id": "65355611",
   "metadata": {},
   "outputs": [
    {
     "name": "stdout",
     "output_type": "stream",
     "text": [
      "\n",
      "Result for the ibm_torino hardware:\n",
      "{'00000010': 240, '11101001': 13, '10000000': 277, '00100000': 216, '10101100': 20, '10010000': 71, '10001000': 91, '00000100': 165, '00100010': 325, '11000000': 127, '01000010': 155, '10100010': 58, '00011010': 58, '00000000': 391, '00001100': 69, '01010010': 50, '00101111': 12, '01111000': 28, '00110001': 38, '10000101': 49, '01100111': 11, '00010001': 82, '10101001': 15, '00100110': 33, '01010001': 34, '00001000': 264, '10000111': 19, '01010110': 27, '00001111': 26, '00011111': 10, '01001000': 90, '00100001': 144, '00101010': 35, '10110100': 16, '01100000': 116, '10010100': 42, '10000001': 68, '00011011': 30, '10100110': 22, '01111111': 12, '10100111': 15, '00010111': 17, '00100111': 27, '11000010': 59, '00000001': 178, '01000100': 97, '00100101': 27, '01001110': 21, '00110010': 50, '00000111': 34, '01000000': 257, '10100000': 137, '00110100': 45, '01011010': 14, '01110010': 25, '01100010': 60, '00010000': 197, '01011011': 9, '00001010': 91, '01010111': 12, '00010010': 114, '01001010': 36, '10000100': 79, '10010001': 42, '00000101': 109, '01101000': 46, '10010010': 41, '11110000': 26, '10000010': 126, '00101000': 117, '11100000': 49, '00100100': 93, '11100101': 15, '01110001': 15, '11100011': 21, '11100001': 23, '01000101': 39, '11001000': 59, '01010000': 111, '10101000': 49, '11110010': 20, '01110000': 43, '00111010': 23, '01011101': 9, '10100011': 18, '11010000': 38, '10110011': 17, '10101011': 12, '00010100': 58, '11010110': 10, '11011100': 19, '00110000': 141, '01000011': 37, '00010110': 47, '01001011': 11, '00001110': 45, '00011000': 86, '00101001': 44, '10001011': 24, '00111000': 39, '10011000': 46, '11101110': 7, '11010001': 24, '11011101': 7, '00011100': 40, '01010101': 13, '11001001': 16, '01011110': 11, '10111000': 18, '01000110': 49, '00000011': 98, '10000110': 49, '00000110': 129, '00100011': 34, '10100100': 51, '10110010': 19, '11001011': 11, '11100010': 22, '01101001': 21, '11000011': 17, '11000100': 43, '10001001': 45, '10110001': 26, '00110011': 29, '00101100': 30, '11001100': 26, '00001101': 42, '11100100': 13, '01101011': 10, '10101110': 11, '00001001': 69, '11000001': 42, '00001011': 44, '01000111': 18, '11000110': 20, '01000001': 103, '10001111': 13, '00010011': 33, '10011100': 24, '11011010': 18, '00011001': 41, '10010101': 15, '10111100': 22, '01011100': 17, '00101011': 22, '11001101': 13, '01100101': 19, '01111010': 13, '01011000': 47, '11110011': 8, '01101111': 7, '00111100': 13, '00101101': 22, '00110101': 18, '01001100': 27, '00111001': 23, '01010011': 17, '01101100': 21, '10110000': 35, '11001110': 16, '01001111': 7, '00010101': 37, '01100001': 33, '10011101': 16, '11101010': 7, '01010100': 31, '01101101': 5, '10010011': 24, '00111110': 13, '10011001': 15, '11001010': 19, '11011111': 11, '01110110': 7, '11101100': 13, '11100111': 7, '11111010': 6, '11101101': 9, '00110110': 24, '10001100': 36, '01111101': 8, '10000011': 45, '11101000': 23, '01100100': 25, '01110101': 9, '01110111': 9, '10100001': 45, '01011001': 17, '00110111': 14, '00011110': 24, '10110111': 6, '00101110': 23, '01101110': 12, '11010010': 24, '11110110': 15, '11111000': 9, '10010110': 24, '10110110': 10, '11010101': 9, '10011110': 12, '01001001': 34, '10111101': 4, '11010100': 20, '11011001': 12, '01100110': 23, '10100101': 16, '11000101': 20, '10101101': 20, '00011101': 21, '11101111': 6, '11110001': 17, '01100011': 14, '00111111': 10, '10011111': 7, '10001010': 44, '01110100': 24, '11011110': 10, '00111011': 16, '11111111': 7, '11011011': 8, '10101010': 18, '10111001': 10, '11010011': 7, '11111100': 10, '11001111': 1, '10001101': 16, '10101111': 11, '01111110': 8, '11100110': 11, '10010111': 11, '11011000': 17, '01001101': 15, '01011111': 8, '11111101': 6, '11111001': 10, '01111100': 7, '10111110': 9, '10110101': 8, '10111010': 9, '10111011': 7, '11110101': 12, '01101010': 12, '10011010': 16, '00111101': 8, '11000111': 12, '10011011': 15, '10111111': 6, '11110111': 5, '11010111': 10, '11101011': 5, '11110100': 7, '01110011': 12, '10001110': 20, '01111011': 4, '11111011': 3, '01111001': 6, '11111110': 3}\n",
      "Total shots executed: 10000\n"
     ]
    }
   ],
   "source": [
    "# Inspect result of SamplerV2 primitive performed on real IBM quantum hardware\n",
    "print(\"\\nResult for the ibm_torino hardware:\")\n",
    "print(counts_real)\n",
    "\n",
    "result_real = job_real.result()\n",
    "spans = result_real.metadata[\"execution\"][\"execution_spans\"]\n",
    "shots = spans[0].size\n",
    "print(\"Total shots executed:\", shots)\n",
    "\n"
   ]
  },
  {
   "cell_type": "code",
   "execution_count": null,
   "id": "bb0f020e",
   "metadata": {},
   "outputs": [
    {
     "name": "stdout",
     "output_type": "stream",
     "text": [
      "\n",
      "Probabilidad de cada qubit de estar en |1>:\n",
      "Qubit 0: 0.2984\n",
      "Qubit 1: 0.3595\n",
      "Qubit 2: 0.2965\n",
      "Qubit 3: 0.3084\n",
      "Qubit 4: 0.3107\n",
      "Qubit 5: 0.3521\n",
      "Qubit 6: 0.3241\n",
      "Qubit 7: 0.3315\n"
     ]
    }
   ],
   "source": [
    "# ===================================\n",
    "# 3. Calculate the probability that each qubit is in state |1>\n",
    "#\n",
    "# ===================================\n",
    "total_shots = sum(counts_real.values())\n",
    "prob_qubits = [0] * n_qubits\n",
    "\n",
    "for bitstring, freq in counts_real.items():\n",
    "    # bitstring is in little-endian order (q2 q1 q0)\n",
    "    for i, bit in enumerate(reversed(bitstring)):\n",
    "        if bit == \"1\":\n",
    "            prob_qubits[i] += freq\n",
    "\n",
    "# Normalize\n",
    "prob_qubits = [p / total_shots for p in prob_qubits]\n",
    "\n",
    "print(\"\\nProbability of each qubit being in |1>:\")\n",
    "for i, p in enumerate(prob_qubits):\n",
    "    print(f\"Qubit {i}: {p:.4f}\")\n"
   ]
  },
  {
   "cell_type": "code",
   "execution_count": null,
   "id": "9b8a226f",
   "metadata": {},
   "outputs": [
    {
     "data": {
      "image/png": "[encoded data removed]",
      "text/plain": [
       "<Figure size 640x480 with 1 Axes>"
      ]
     },
     "metadata": {},
     "output_type": "display_data"
    }
   ],
   "source": [
    "# ===================================\n",
    "# 4. Visualización opcional\n",
    "# ===================================\n",
    "import matplotlib.pyplot as plt\n",
    "#plt.bar(range(n_qubits), probs) this is for plotting bars (in the paper are used for representing the exact diagonalization case)\n",
    "\n",
    "plt.plot(range(len(prob_qubits)), prob_qubits,\n",
    "         '^',         \n",
    "         color='blue', \n",
    "         markersize=10 \n",
    "plt.ylim(0, 1)\n",
    "plt.xlabel(\"Site Number\")\n",
    "plt.title(\"Occupation number for scattering\\nusing superconducting qubit quantum computer\", fontsize=12)\n",
    "\n",
    "plt.show()"
   ]
  },
  {
   "cell_type": "code",
   "execution_count": null,
   "id": "620237da",
   "metadata": {},
   "outputs": [
    {
     "name": "stdout",
     "output_type": "stream",
     "text": [
      "Resultados guardados en Fig10b)_(E2)_ibm_torino.json\n"
     ]
    },
    {
     "data": {
      "image/png": "[encoded data removed]",
      "text/plain": [
       "<Figure size 640x480 with 1 Axes>"
      ]
     },
     "metadata": {},
     "output_type": "display_data"
    },
    {
     "name": "stdout",
     "output_type": "stream",
     "text": [
      "Histograma guardado en Fig10b)_(E2)_ibm_torino.png\n"
     ]
    }
   ],
   "source": [
    "# ==============================\n",
    "# Save results in JSON\n",
    "# ==============================\n",
    "\n",
    "import os\n",
    "import json\n",
    "\n",
    "save_path = r\"C:\\Users\\pablo\\OneDrive\\Escritorio\\Universidad\\TFG\\Fig10_ibm_torino\\Fig10b)_ibm_torino\"\n",
    "os.makedirs(save_path, exist_ok=True)\n",
    "\n",
    "results_dict = {\n",
    "    \"counts\": counts_real,\n",
    "    \"shots\": shots,\n",
    "    \"prob_qubits\": prob_qubits\n",
    "}\n",
    "\n",
    "label = \"E2\"\n",
    "filename_json = f\"Fig10b)_({label})_ibm_torino.json\"\n",
    "filename_png  = f\"Fig10b)_({label})_ibm_torino.png\"\n",
    "\n",
    "with open(os.path.join(save_path, filename_json), \"w\") as f:\n",
    "    json.dump(results_dict, f, indent=4)\n",
    "\n",
    "print(f\"Saved results en {filename_json}\")\n",
    "\n",
    "# ==============================\n",
    "# 6. Guardar el histograma\n",
    "# ==============================\n",
    "plt.plot(range(len(prob_qubits)), prob_qubits,\n",
    "         '^', color='blue', markersize=10)\n",
    "plt.ylim(0, 1)\n",
    "plt.xlabel(\"Site Number\")\n",
    "plt.title(\"Occupation number for scattering\\nusing superconducting qubit quantum computer\", fontsize=12)\n",
    "\n",
    "\n",
    "plt.savefig(os.path.join(save_path, filename_png), dpi=300)\n",
    "plt.show()\n",
    "\n",
    "print(f\"Saved histogram at {filename_png}\")"
   ]
  }
 ],
 "metadata": {
  "kernelspec": {
   "display_name": "Qiskit",
   "language": "python",
   "name": "python3"
  },
  "language_info": {
   "codemirror_mode": {
    "name": "ipython",
    "version": 3
   },
   "file_extension": ".py",
   "mimetype": "text/x-python",
   "name": "python",
   "nbconvert_exporter": "python",
   "pygments_lexer": "ipython3",
   "version": "3.11.9"
  }
 },
 "nbformat": 4,
 "nbformat_minor": 5
}
